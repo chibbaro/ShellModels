{
  "cells": [
    {
      "cell_type": "markdown",
      "metadata": {
        "id": "view-in-github",
        "colab_type": "text"
      },
      "source": [
        "<a href=\"https://colab.research.google.com/github/raudh1/ShellModels/blob/main/shell_model_prove.ipynb\" target=\"_parent\"><img src=\"https://colab.research.google.com/assets/colab-badge.svg\" alt=\"Open In Colab\"/></a>"
      ]
    },
    {
      "cell_type": "code",
      "execution_count": 1,
      "metadata": {
        "id": "iLgmhLRqcK_9"
      },
      "outputs": [],
      "source": [
        "import numpy as np\n",
        "import matplotlib.pyplot as plt\n",
        "from mpl_toolkits.mplot3d import Axes3D\n",
        "from matplotlib.offsetbox import AnchoredText\n",
        "from scipy.integrate import solve_ivp\n",
        "\n",
        "from scipy.integrate import complex_ode\n",
        "from matplotlib import pyplot"
      ]
    },
    {
      "cell_type": "code",
      "execution_count": 2,
      "metadata": {
        "id": "P0gsYBz_rHqX"
      },
      "outputs": [],
      "source": [
        "N=12\n",
        "knn=np.power(2,np.arange(N+4))\n",
        "kn=knn*np.power(2,-4.)\n"
      ]
    },
    {
      "cell_type": "code",
      "execution_count": 65,
      "metadata": {
        "id": "vScdL61XcCZ5"
      },
      "outputs": [],
      "source": [
        "def shellmodel(t, u):\n",
        "      nu=0.4e-3\n",
        "      an=np.ones(N+4)\n",
        "      bn=-0.5*np.ones(N+4)\n",
        "      cn=-0.5*np.ones(N+4)\n",
        "      fn=np.zeros(N+4,dtype=complex)\n",
        "      #cn=np.zeros(N+4)\n",
        "      #cn=(1.-bn)\n",
        "\n",
        "\n",
        "      an[N+3]=0.\n",
        "      an[N+2]=0.\n",
        "\n",
        "      bn[0]=0.\n",
        "      bn[N+3]=0.\n",
        "\n",
        "      cn[0]=0.\n",
        "      cn[1]=0.\n",
        "\n",
        "      fn[3]=(1.+1.j)*6.e-3\n",
        "      res=np.zeros((N+4),dtype=complex)\n",
        "      #a,b,c=-1.,0.5,0.5\n",
        "      #print((2,N+2),res.shape[0])\n",
        "\n",
        "      eta=np.power(nu**3/(np.abs(fn[3])),1/4.)\n",
        "      #print(1/eta)\n",
        "\n",
        "      for i in range(2, N+2):\n",
        "          #SABRA U\n",
        "          #print(i)                                                                        cambiato da i-3\n",
        "          #                                                                                       |\n",
        "          #                                                                                       v\n",
        "          res[i]=1j*(an[i-2]*kn[i+1]*u[i+2]*np.conjugate(u[i+1])+bn[i-2]*kn[i]*u[i+1]*np.conjugate(u[i-1])-cn[i-2]*kn[i-1]*u[i-1]*u[i-2])+fn[i]-nu*kn[i]**2*u[i] \n",
        "      return  res\n"
      ]
    },
    {
      "cell_type": "code",
      "execution_count": 66,
      "metadata": {
        "colab": {
          "base_uri": "https://localhost:8080/"
        },
        "id": "99MChFPsr9UK",
        "outputId": "b90d344e-88b7-449e-8de8-a91bf04f3d12"
      },
      "outputs": [
        {
          "output_type": "stream",
          "name": "stdout",
          "text": [
            "107.3053977160155\n"
          ]
        }
      ],
      "source": [
        "nu=0.4e-3\n",
        "fn=(1.+1j)*6.e-3\n",
        "eta=np.power(nu**3/(np.abs(fn)),1/4.)\n",
        "print(1/eta)"
      ]
    },
    {
      "cell_type": "code",
      "execution_count": 67,
      "metadata": {
        "colab": {
          "base_uri": "https://localhost:8080/"
        },
        "id": "1xR3EDORczgF",
        "outputId": "d5093a95-08f7-47d8-aff8-0e041f907975"
      },
      "outputs": [
        {
          "output_type": "stream",
          "name": "stdout",
          "text": [
            "0.3415432999007084\n"
          ]
        }
      ],
      "source": [
        "taueta=np.power(nu/epsilon,0.5)\n",
        "print(taueta)"
      ]
    },
    {
      "cell_type": "code",
      "source": [
        ""
      ],
      "metadata": {
        "id": "AWOjQLDdjQsi"
      },
      "execution_count": 83,
      "outputs": []
    },
    {
      "cell_type": "code",
      "execution_count": 86,
      "metadata": {
        "colab": {
          "base_uri": "https://localhost:8080/"
        },
        "id": "UMBBMtSUr2RV",
        "outputId": "b5ede77f-497e-40f9-de89-90fc94886dc5"
      },
      "outputs": [
        {
          "output_type": "stream",
          "name": "stdout",
          "text": [
            "0.16442943132506443\n",
            "50000\n",
            "0.16134447876953814\n",
            "100000\n",
            "0.16159831355684903\n",
            "150000\n",
            "0.16611556097995547\n",
            "200000\n",
            "0.16702619862308563\n",
            "250000\n",
            "0.16590115899438188\n",
            "300000\n"
          ]
        }
      ],
      "source": [
        "Un=1e-2*kn**(-1)*(1.+1.j)*np.ones(N+4,dtype=complex)\n",
        "Un2=np.load('./Uf.npy')\n",
        "Un2=Un2[:,-1]\n",
        "#u0=1j*np.ones((2*(N+4)))\n",
        "u0=np.array(Un)\n",
        "#u0=u0.reshape(1,2*(N+4))\n",
        "#u20=2*np.ones(N)\n",
        "\n",
        "t=0\n",
        "r = complex_ode(shellmodel).set_integrator('vode', method='bdf',order='2')\n",
        "r.set_initial_value(u0,0)\n",
        "t1 = 3000\n",
        "dt = 1e-2\n",
        "#print(r.successful(),r.t,t1)\n",
        "i=0\n",
        "a=[]\n",
        "while r.successful() and r.t < t1:\n",
        "      r.t\n",
        "      a.append(r.integrate(r.t+dt))\n",
        "      i=i+1\n",
        "      if (i%50000==0):\n",
        "        print(np.mean(np.sum((np.transpose(a)*np.conj(np.transpose(a))).real,axis=0)))\n",
        "        print(i)\n",
        "Uf=np.transpose(a)\n",
        "np.save('./Uf',Uf)"
      ]
    },
    {
      "cell_type": "code",
      "source": [
        "np.save('./Uf',Uf)"
      ],
      "metadata": {
        "id": "7sjhaWMeHCCm"
      },
      "execution_count": 28,
      "outputs": []
    },
    {
      "cell_type": "code",
      "execution_count": 87,
      "metadata": {
        "colab": {
          "base_uri": "https://localhost:8080/",
          "height": 265
        },
        "id": "U6SFSLyhzbEI",
        "outputId": "ca0d5b7b-f0b4-4d47-d80a-0bd12fe4c46c"
      },
      "outputs": [
        {
          "output_type": "display_data",
          "data": {
            "text/plain": [
              "<Figure size 432x288 with 1 Axes>"
            ],
            "image/png": "[encoded data removed]"
          },
          "metadata": {
            "needs_background": "light"
          }
        }
      ],
      "source": [
        "Uf2=Uf[2:-2]\n",
        "Energy=np.sum((Uf2*np.conj(Uf2)).real,axis=0)\n",
        "plt.plot((Energy))\n",
        "#plt.loglog()\n",
        "#plt.plot(np.sum((Un*np.conj(Un)).real,axis=0))\n",
        "\n",
        "#plt.ylim(Energy[0],4.266e-5)\n",
        "#plt.xlim(0,20)\n",
        "plt.show()"
      ]
    },
    {
      "cell_type": "code",
      "source": [
        "Un[3]"
      ],
      "metadata": {
        "colab": {
          "base_uri": "https://localhost:8080/"
        },
        "id": "6xOKivfQU39g",
        "outputId": "d9895f00-5dd6-4b99-b84f-5f221020be7d"
      },
      "execution_count": 88,
      "outputs": [
        {
          "output_type": "execute_result",
          "data": {
            "text/plain": [
              "(0.02+0.02j)"
            ]
          },
          "metadata": {},
          "execution_count": 88
        }
      ]
    },
    {
      "cell_type": "code",
      "execution_count": 89,
      "metadata": {
        "id": "7g7l68lVSwCZ"
      },
      "outputs": [],
      "source": [
        "epsilon=2*np.real(np.mean(np.conj(Uf[3])*fn))\n"
      ]
    },
    {
      "cell_type": "code",
      "execution_count": 90,
      "metadata": {
        "id": "7e_IFMmA-7Gf",
        "colab": {
          "base_uri": "https://localhost:8080/"
        },
        "outputId": "4403e0b8-bd45-4497-e990-afcf82788209"
      },
      "outputs": [
        {
          "output_type": "stream",
          "name": "stdout",
          "text": [
            "85.41318126263239 107.3053977160155\n"
          ]
        }
      ],
      "source": [
        "eta=np.power(nu**3/(epsilon),1/4.)\n",
        "eta2=np.power(nu**3/(np.abs(fn)),1/4.)\n",
        "print(1/eta,1/eta2)"
      ]
    },
    {
      "cell_type": "code",
      "execution_count": 97,
      "metadata": {
        "id": "vFy4db8fxO4-"
      },
      "outputs": [],
      "source": [
        "#print(np.mean((Uf*np.conj(Uf)),1),Uf[2].shape[:])"
      ]
    },
    {
      "cell_type": "code",
      "execution_count": 98,
      "metadata": {
        "id": "bKN1Ks-bSeck"
      },
      "outputs": [],
      "source": [
        "#print(Uf.shape[:],Un.shape[:])"
      ]
    },
    {
      "cell_type": "code",
      "execution_count": 99,
      "metadata": {
        "id": "Rf69VRlpRsqU"
      },
      "outputs": [],
      "source": [
        "#plt.plot(kn,(Un*np.conj(Un)).real,'bo')\n",
        "#plt.loglog()\n",
        "#plt.show()"
      ]
    },
    {
      "cell_type": "code",
      "source": [
        "#Uf_stat.shape[:]\n",
        "#Uf_stat=Uf\n",
        "Uf_stat=Uf[:,50000:]\n",
        "#Uf_stat_old=np.load('./Uf_stat.npy')\n"
      ],
      "metadata": {
        "id": "dDm22JoXIU1a"
      },
      "execution_count": 91,
      "outputs": []
    },
    {
      "cell_type": "code",
      "execution_count": 92,
      "metadata": {
        "colab": {
          "base_uri": "https://localhost:8080/",
          "height": 626
        },
        "id": "87wd6RKjueGg",
        "outputId": "25fd1ce9-8aa0-412b-90ca-0360f0ad77f0"
      },
      "outputs": [
        {
          "output_type": "display_data",
          "data": {
            "text/plain": [
              "<Figure size 1008x720 with 1 Axes>"
            ],
            "image/png": "[encoded data removed]"
          },
          "metadata": {
            "needs_background": "light"
          }
        }
      ],
      "source": [
        "plt.figure(figsize=(14,10))\n",
        "plt.plot(kn[2:-2],(Un*np.conj(Un)).real[2:-2],'ro',label='initial condition')\n",
        "plt.plot(kn[2:-2],(np.mean((Uf_stat*np.conj(Uf_stat)),1).real)[2:-2],'o--',label='S2')\n",
        "#plt.plot(kn[2:-2],(np.mean((Uf_stat_old*np.conj(Uf_stat_old)),1).real)[2:-2],'o--',label='S2')\n",
        "\n",
        "plt.plot(kn[2:-2],0.01e2*np.power(epsilon,2/3.)*kn[2:-2]**(-2/3.),label=r'$S2_{th}$')\n",
        "plt.axvline(x=1/eta)\n",
        "plt.axvline(x=kn[3])\n",
        "plt.xlabel(r'$n$', fontsize=20)\n",
        "plt.ylabel(r'$S_2(n)$', fontsize=20)\n",
        "plt.legend(fontsize=20)\n",
        "plt.xticks(fontsize=20)\n",
        "plt.yticks(fontsize=20)\n",
        "\n",
        "#pyplot.annotate(r'$k_{in}$',(kn[3],1e-19),fontsize='20')\n",
        "#pyplot.annotate(r'$k_{out}$',(1/eta,1e-19),fontsize='20')\n",
        "plt.loglog()\n",
        "#plt.savefig('./K41_shell_model_N=20')\n",
        "plt.show()\n",
        "#np.save('./sol_0.02.npy',(np.mean((Uf*np.conj(Uf)),1).real)[2:-2])"
      ]
    },
    {
      "cell_type": "code",
      "source": [
        "S2"
      ],
      "metadata": {
        "colab": {
          "base_uri": "https://localhost:8080/",
          "height": 166
        },
        "id": "QUxEMP7dQuQL",
        "outputId": "3a1bfef0-4b11-4ea3-e84a-f76af75fb0a6"
      },
      "execution_count": 29,
      "outputs": [
        {
          "output_type": "error",
          "ename": "NameError",
          "evalue": "ignored",
          "traceback": [
            "\u001b[0;31m---------------------------------------------------------------------------\u001b[0m",
            "\u001b[0;31mNameError\u001b[0m                                 Traceback (most recent call last)",
            "\u001b[0;32m<ipython-input-29-56737722f54b>\u001b[0m in \u001b[0;36m<module>\u001b[0;34m()\u001b[0m\n\u001b[0;32m----> 1\u001b[0;31m \u001b[0mS2\u001b[0m\u001b[0;34m\u001b[0m\u001b[0;34m\u001b[0m\u001b[0m\n\u001b[0m",
            "\u001b[0;31mNameError\u001b[0m: name 'S2' is not defined"
          ]
        }
      ]
    },
    {
      "cell_type": "code",
      "execution_count": 231,
      "metadata": {
        "id": "UsM5NfiXXxdw"
      },
      "outputs": [],
      "source": [
        " np.save('./Uf_stat',Uf_stat)"
      ]
    },
    {
      "cell_type": "markdown",
      "metadata": {
        "id": "jtt5IVSec6wy"
      },
      "source": [
        "**structure functions in all their beauty**"
      ]
    },
    {
      "cell_type": "code",
      "execution_count": null,
      "metadata": {
        "colab": {
          "base_uri": "https://localhost:8080/"
        },
        "id": "v1ZR6AzcPD4C",
        "outputId": "391ed870-7a81-46fd-f8ae-3b4fcf75201f"
      },
      "outputs": [
        {
          "name": "stdout",
          "output_type": "stream",
          "text": [
            "7.75\n"
          ]
        }
      ],
      "source": [
        "a=np.array([1+1j,2,3,4])\n",
        "a=np.abs(a)\n",
        "print(np.mean(a**2))"
      ]
    },
    {
      "cell_type": "code",
      "execution_count": null,
      "metadata": {
        "colab": {
          "base_uri": "https://localhost:8080/"
        },
        "id": "rTo74-NxSXQm",
        "outputId": "5d55bffa-4c4e-4e1e-cdb3-73c19dd67bfd"
      },
      "outputs": [
        {
          "data": {
            "text/plain": [
              "array([[ 0.004     +0.004j     ,  0.004     +0.004j     ,\n",
              "         0.004     +0.004j     , ..., -1.99039955+0.62669066j,\n",
              "        -1.99067503+0.62678449j, -1.99095047+0.62687831j],\n",
              "       [ 0.00208   +0.00208j   ,  0.00216   +0.00216j   ,\n",
              "         0.00224   +0.00224j   , ...,  4.25057481+4.2404344j ,\n",
              "         4.25048286+4.24033968j,  4.25039093+4.24024498j],\n",
              "       [ 0.001     +0.001j     ,  0.001     +0.001j     ,\n",
              "         0.001     +0.001j     , ..., -0.42484897+0.87246206j,\n",
              "        -0.42479227+0.87236201j, -0.42473549+0.87226181j],\n",
              "       ...,\n",
              "       [ 0.00000002+0.00000002j,  0.00000002+0.00000002j,\n",
              "         0.00000002+0.00000002j, ..., -0.        -0.j        ,\n",
              "        -0.        -0.j        , -0.        -0.j        ],\n",
              "       [ 0.00000001+0.00000001j,  0.        +0.j        ,\n",
              "         0.        +0.j        , ...,  0.        -0.j        ,\n",
              "         0.        -0.j        ,  0.        -0.j        ],\n",
              "       [ 0.        +0.j        ,  0.        +0.j        ,\n",
              "         0.        +0.j        , ...,  0.        +0.j        ,\n",
              "         0.        +0.j        ,  0.        +0.j        ]])"
            ]
          },
          "execution_count": 98,
          "metadata": {},
          "output_type": "execute_result"
        }
      ],
      "source": [
        "Uf[2:-2]"
      ]
    },
    {
      "cell_type": "code",
      "execution_count": null,
      "metadata": {
        "colab": {
          "base_uri": "https://localhost:8080/"
        },
        "id": "9leA17cFPkmS",
        "outputId": "401d39da-2a59-4d11-dcdf-42957600e1a3"
      },
      "outputs": [
        {
          "name": "stdout",
          "output_type": "stream",
          "text": [
            "20\n"
          ]
        }
      ],
      "source": [
        "print(len(np.mean(np.abs(Uf[2:-2].T),axis=0)))"
      ]
    },
    {
      "cell_type": "code",
      "source": [
        "Ufdisp=Uf[:]"
      ],
      "metadata": {
        "id": "7uYsBh5QKQix"
      },
      "execution_count": 59,
      "outputs": []
    },
    {
      "cell_type": "code",
      "source": [
        "Sdispari=[]\n",
        "for i in range(N):\n",
        "  \n",
        "  a=np.imag(np.mean(((Ufdisp[i,:]*(Ufdisp[i+1,:])*np.conj((Ufdisp[i+2,:]))))))\n",
        "  Sdispari.append(a)\n",
        "print(Sdispari)"
      ],
      "metadata": {
        "colab": {
          "base_uri": "https://localhost:8080/"
        },
        "id": "jllOmfdbKl4F",
        "outputId": "fe0e112f-aee8-43ed-eb9f-6c638e3b1ff9"
      },
      "execution_count": 60,
      "outputs": [
        {
          "output_type": "stream",
          "name": "stdout",
          "text": [
            "[-4.661162200448451e-07, -1.5829461200909962e-05, 9.740765735285651e-05, -0.00012477917142782188, -6.359064867902625e-08, -5.922658471846926e-10, 5.214619641746044e-12, 4.916356243646419e-13, 5.680722740018913e-14, 6.35594189667951e-15, 5.317376590749049e-16, 2.355457717553533e-17, 7.524156181828083e-19, 2.3618746097596007e-20, 7.383851707935093e-22, 2.299804083451902e-23, 7.081315856856326e-25, 2.0852531071210585e-26, 5.0836602540399185e-28, 4.939435008240434e-30]\n"
          ]
        }
      ]
    },
    {
      "cell_type": "code",
      "source": [
        "plt.plot(kn[2:-2],np.abs(Sdispari),'d')\n",
        "plt.loglog()"
      ],
      "metadata": {
        "colab": {
          "base_uri": "https://localhost:8080/",
          "height": 290
        },
        "id": "sxOWRqTgMuM6",
        "outputId": "9b289e51-7b44-40db-fb64-00d170849f7c"
      },
      "execution_count": 62,
      "outputs": [
        {
          "output_type": "execute_result",
          "data": {
            "text/plain": [
              "[]"
            ]
          },
          "metadata": {},
          "execution_count": 62
        },
        {
          "output_type": "display_data",
          "data": {
            "text/plain": [
              "<Figure size 432x288 with 1 Axes>"
            ],
            "image/png": "[encoded data removed]"
          },
          "metadata": {
            "needs_background": "light"
          }
        }
      ]
    },
    {
      "cell_type": "code",
      "execution_count": 30,
      "metadata": {
        "colab": {
          "base_uri": "https://localhost:8080/",
          "height": 52
        },
        "id": "jMoLdAnQs_1T",
        "outputId": "283e7de0-93a9-42e8-94b8-2f36e31c56b2"
      },
      "outputs": [
        {
          "output_type": "stream",
          "name": "stdout",
          "text": [
            "12 12\n"
          ]
        },
        {
          "output_type": "display_data",
          "data": {
            "text/plain": [
              "<Figure size 1008x720 with 0 Axes>"
            ]
          },
          "metadata": {}
        }
      ],
      "source": [
        "plt.figure(figsize=(14,10))\n",
        "Uf3=np.abs(Uf[2:-2])\n",
        "S1=np.mean(((Uf3)),1)\n",
        "S2=np.mean((Uf3)**2,1)\n",
        "S4=np.mean((Uf3)**4,1)\n",
        "S5=np.mean((Uf3)**5,1)\n",
        "S6=np.mean((Uf3)**6,1)\n",
        "S7=np.mean((Uf3)**7,1)\n",
        "S8=np.mean((Uf3)**8,1)\n",
        "S9=np.mean((Uf3)**9,1)\n",
        "print(len(S2),len(S4)) "
      ]
    },
    {
      "cell_type": "code",
      "source": [
        "Uf3[1,:].shape[:]"
      ],
      "metadata": {
        "colab": {
          "base_uri": "https://localhost:8080/"
        },
        "id": "DthvUyEMVH91",
        "outputId": "5b918150-c9b3-4501-8a89-5da255a3222c"
      },
      "execution_count": 31,
      "outputs": [
        {
          "output_type": "execute_result",
          "data": {
            "text/plain": [
              "(100001,)"
            ]
          },
          "metadata": {},
          "execution_count": 31
        }
      ]
    },
    {
      "cell_type": "code",
      "source": [
        "S2_2=np.mean(np.abs(Uf3[1,:]))\n",
        "S2_2"
      ],
      "metadata": {
        "colab": {
          "base_uri": "https://localhost:8080/"
        },
        "id": "__02wP7LOkb8",
        "outputId": "83a7f2df-6040-4c98-e715-0068ac74a6ae"
      },
      "execution_count": 33,
      "outputs": [
        {
          "output_type": "execute_result",
          "data": {
            "text/plain": [
              "0.20376173028873795"
            ]
          },
          "metadata": {},
          "execution_count": 33
        }
      ]
    },
    {
      "cell_type": "code",
      "source": [
        "plt.plot(np.abs(Uf3[1,:]))\n"
      ],
      "metadata": {
        "colab": {
          "base_uri": "https://localhost:8080/",
          "height": 282
        },
        "id": "D_Jn7wEZVBDa",
        "outputId": "075670dc-b1af-4f58-c92d-d7b3b29f9dc9"
      },
      "execution_count": 69,
      "outputs": [
        {
          "output_type": "execute_result",
          "data": {
            "text/plain": [
              "[<matplotlib.lines.Line2D at 0x7fcd7689c750>]"
            ]
          },
          "metadata": {},
          "execution_count": 69
        },
        {
          "output_type": "display_data",
          "data": {
            "text/plain": [
              "<Figure size 432x288 with 1 Axes>"
            ],
            "image/png": "[encoded data removed]"
          },
          "metadata": {
            "needs_background": "light"
          }
        }
      ]
    },
    {
      "cell_type": "code",
      "execution_count": 266,
      "metadata": {
        "colab": {
          "base_uri": "https://localhost:8080/"
        },
        "id": "KTSF_dVjvFSM",
        "outputId": "c24b776c-2c6a-4c6c-b84b-0c14d8daad70"
      },
      "outputs": [
        {
          "output_type": "stream",
          "name": "stdout",
          "text": [
            "(20,)\n"
          ]
        }
      ],
      "source": [
        "print((S1.shape[:]))"
      ]
    },
    {
      "cell_type": "code",
      "execution_count": 253,
      "metadata": {
        "id": "yzGye9vPX_6V"
      },
      "outputs": [],
      "source": [
        "def func(x, a, b, c):\n",
        "    return a * np.power(x,b) +c"
      ]
    },
    {
      "cell_type": "code",
      "source": [
        "np.log2(knn[2])"
      ],
      "metadata": {
        "colab": {
          "base_uri": "https://localhost:8080/"
        },
        "id": "eqrIoyTendAH",
        "outputId": "88e0119d-068d-4469-fb0c-85d9e3ad8a23"
      },
      "execution_count": 269,
      "outputs": [
        {
          "output_type": "execute_result",
          "data": {
            "text/plain": [
              "2.0"
            ]
          },
          "metadata": {},
          "execution_count": 269
        }
      ]
    },
    {
      "cell_type": "code",
      "execution_count": 34,
      "metadata": {
        "colab": {
          "base_uri": "https://localhost:8080/",
          "height": 595
        },
        "id": "aYvpZcMIcHls",
        "outputId": "513ca8cd-c95a-4dd7-f7eb-0deaed540327"
      },
      "outputs": [
        {
          "output_type": "display_data",
          "data": {
            "text/plain": [
              "<Figure size 1008x720 with 1 Axes>"
            ],
            "image/png": "[encoded data removed]"
          },
          "metadata": {
            "needs_background": "light"
          }
        }
      ],
      "source": [
        "plt.figure(figsize=(14,10))\n",
        "\n",
        "#plt.plot(kn[2:-2],S1,'o-',label='S1')\n",
        "plt.plot((knn[2:-2]),(S1),'o-',label='S1')\n",
        "plt.plot((knn[2:-2]),(S2),'o-',label='S2')\n",
        "plt.plot((knn[2:-2]),(S4),'o-',label='S4')\n",
        "\n",
        "#plt.plot((knn[2:-2]),knn[2:-2]*(np.abs(Sdispari)),'o-',label='S3')\n",
        "#plt.plot((knn[2:-2]),(knn[2:-2]**(-1.)),'o-',label='k^-1')\n",
        "\n",
        "#plt.plot(np.log2(knn[2:-2]),np.log2(S4),'o-',label='S4')\n",
        "#plt.plot(knn[2:-2],kn[2:-2]**(-0.720),label='power law')\n",
        "#plt.plot(knn[2:-2],kn[2:-2]**(-1.7),label='power law')\n",
        "\n",
        "#plt.yscale('log')\n",
        "\n",
        "#plt.plot(kn[2:-2],kn[2:-2]**0.00003242,'o-',label='k**-2')\n",
        "#plt.plot(kn[2:-2],func(kn[2:-2], *popt))\n",
        "#plt.plot(S3,'o-',label='S3')\n",
        "#plt.plot(kn[2:-2],S4,'o-',label='S4')\n",
        "#plt.plot(S5,'o-',label='S5')\n",
        "#plt.plot(kn[2:-2],S6,'o-',label='S6')\n",
        "#plt.plot(S7,'o-',label='S7')\n",
        "#plt.plot(kn[2:-2],S8,'o-',label='S8')\n",
        "#plt.plot(S9,'o-',label='S9')\n",
        "#plt.xlim([1e-1,1])\n",
        "#plt.ylim(1e-3,1e3)\n",
        "plt.loglog()#basex=2, basey=2)\n",
        "plt.legend()\n",
        "plt.show()"
      ]
    },
    {
      "cell_type": "code",
      "source": [
        "S2"
      ],
      "metadata": {
        "colab": {
          "base_uri": "https://localhost:8080/"
        },
        "id": "lEWg7qU3NQV9",
        "outputId": "3f495d59-f313-443a-b4dc-93a31164e583"
      },
      "execution_count": 35,
      "outputs": [
        {
          "output_type": "execute_result",
          "data": {
            "text/plain": [
              "array([1.83099723e-02, 4.55088797e-02, 7.35174319e-03, 8.83363841e-03,\n",
              "       2.57966462e-03, 2.85494146e-03, 7.74959876e-04, 7.14718096e-05,\n",
              "       9.84856850e-07, 7.58982027e-10, 6.95603813e-15, 2.02010675e-22])"
            ]
          },
          "metadata": {},
          "execution_count": 35
        }
      ]
    },
    {
      "cell_type": "code",
      "execution_count": null,
      "metadata": {
        "colab": {
          "base_uri": "https://localhost:8080/"
        },
        "id": "obWIX3itYGtc",
        "outputId": "bc800a95-5c3e-4bc0-e4fd-4f5e4a321ce6"
      },
      "outputs": [
        {
          "data": {
            "text/plain": [
              "array([ 0.1909241 , -2.        ,  0.59000107])"
            ]
          },
          "execution_count": 154,
          "metadata": {},
          "output_type": "execute_result"
        }
      ],
      "source": [
        "from scipy.optimize import curve_fit\n",
        "popt, pcov = curve_fit(func, kn[2:-2],S2,bounds=(-5,[1,-2,1]))\n",
        "popt"
      ]
    },
    {
      "cell_type": "code",
      "execution_count": 73,
      "metadata": {
        "colab": {
          "base_uri": "https://localhost:8080/"
        },
        "id": "uafP6fKigDZu",
        "outputId": "25626b9e-6f50-4daf-b255-201821c03604"
      },
      "outputs": [
        {
          "output_type": "execute_result",
          "data": {
            "text/plain": [
              "array([0.00009967, 0.72494462, 0.00007771, 0.00011172, 0.00000019,\n",
              "       0.00000003, 0.00000001, 0.        , 0.        , 0.        ,\n",
              "       0.        , 0.        , 0.        , 0.        , 0.        ,\n",
              "       0.        , 0.        , 0.        , 0.        , 0.        ])"
            ]
          },
          "metadata": {},
          "execution_count": 73
        }
      ],
      "source": [
        "np.set_printoptions(suppress=True)\n",
        "\n",
        "np.round(S2, decimals=8, out=None)"
      ]
    },
    {
      "cell_type": "code",
      "execution_count": null,
      "metadata": {
        "colab": {
          "base_uri": "https://localhost:8080/",
          "height": 131
        },
        "id": "i80DIhQac9OM",
        "outputId": "63ff5ca1-573a-4394-8a74-c01513e17dce"
      },
      "outputs": [
        {
          "ename": "SyntaxError",
          "evalue": "ignored",
          "output_type": "error",
          "traceback": [
            "\u001b[0;36m  File \u001b[0;32m\"<ipython-input-44-55b947364542>\"\u001b[0;36m, line \u001b[0;32m1\u001b[0m\n\u001b[0;31m    --- prove ---\u001b[0m\n\u001b[0m                 ^\u001b[0m\n\u001b[0;31mSyntaxError\u001b[0m\u001b[0;31m:\u001b[0m invalid syntax\n"
          ]
        }
      ],
      "source": [
        "--- prove ---"
      ]
    },
    {
      "cell_type": "code",
      "execution_count": null,
      "metadata": {
        "id": "vinzf97WG3fY"
      },
      "outputs": [],
      "source": [
        "import seaborn as sns"
      ]
    },
    {
      "cell_type": "code",
      "execution_count": null,
      "metadata": {
        "id": "zstHYE-IG4KA"
      },
      "outputs": [],
      "source": [
        ""
      ]
    }
  ],
  "metadata": {
    "colab": {
      "collapsed_sections": [],
      "name": "shell_model_prove.ipynb",
      "provenance": [],
      "authorship_tag": "ABX9TyP4rDgMvb4GYcKrwQgi6igR",
      "include_colab_link": true
    },
    "kernelspec": {
      "display_name": "Python 3",
      "name": "python3"
    },
    "language_info": {
      "name": "python"
    }
  },
  "nbformat": 4,
  "nbformat_minor": 0
}