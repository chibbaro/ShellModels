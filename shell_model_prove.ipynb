{
  "nbformat": 4,
  "nbformat_minor": 0,
  "metadata": {
    "colab": {
      "name": "shell_model_prove.ipynb",
      "provenance": [],
      "collapsed_sections": [],
      "authorship_tag": "ABX9TyN1eRc/WKlxx9DVh/V/ia8c",
      "include_colab_link": true
    },
    "kernelspec": {
      "name": "python3",
      "display_name": "Python 3"
    },
    "language_info": {
      "name": "python"
    }
  },
  "cells": [
    {
      "cell_type": "markdown",
      "metadata": {
        "id": "view-in-github",
        "colab_type": "text"
      },
      "source": [
        "<a href=\"https://colab.research.google.com/github/raudh1/ShellModels/blob/main/shell_model_prove.ipynb\" target=\"_parent\"><img src=\"https://colab.research.google.com/assets/colab-badge.svg\" alt=\"Open In Colab\"/></a>"
      ]
    },
    {
      "cell_type": "code",
      "source": [
        "import numpy as np\n",
        "import matplotlib.pyplot as plt\n",
        "from mpl_toolkits.mplot3d import Axes3D\n",
        "from matplotlib.offsetbox import AnchoredText\n",
        "from scipy.integrate import solve_ivp\n",
        "\n",
        "from scipy.integrate import complex_ode\n",
        "from matplotlib import pyplot"
      ],
      "metadata": {
        "id": "iLgmhLRqcK_9"
      },
      "execution_count": 1,
      "outputs": []
    },
    {
      "cell_type": "code",
      "source": [
        "N=20\n",
        "knn=np.power(2,np.arange(N+4))\n",
        "kn=knn*np.power(2,-4.)\n"
      ],
      "metadata": {
        "id": "P0gsYBz_rHqX"
      },
      "execution_count": 2,
      "outputs": []
    },
    {
      "cell_type": "code",
      "execution_count": 3,
      "metadata": {
        "id": "vScdL61XcCZ5"
      },
      "outputs": [],
      "source": [
        "def shellmodel(t, u):\n",
        "      nu=2e-6\n",
        "      an=np.ones(N+4)\n",
        "      bn=-0.5*np.ones(N+4)\n",
        "      cn=-0.5*np.ones(N+4)\n",
        "      fn=np.zeros(N+4,dtype=complex)\n",
        "      #cn=np.zeros(N+4)\n",
        "      #cn=(1.-bn)\n",
        "\n",
        "\n",
        "      an[N+3]=0.\n",
        "      an[N+2]=0.\n",
        "\n",
        "      bn[0]=0.\n",
        "      bn[N+3]=0.\n",
        "\n",
        "      cn[0]=0.\n",
        "      cn[1]=0.\n",
        "\n",
        "      fn[3]=(1.+1.j)*8.e-1\n",
        "      res=np.zeros((N+4),dtype=complex)\n",
        "      #a,b,c=-1.,0.5,0.5\n",
        "      #print((2,N+2),res.shape[0])\n",
        "\n",
        "      eta=np.power(nu**3/(np.abs(fn[3])),1/4.)\n",
        "      #print(1/eta)\n",
        "\n",
        "      for i in range(2, N+2):\n",
        "          #SABRA U\n",
        "          #print(i)                                                                        cambiato da i-3\n",
        "          #                                                                                       |\n",
        "          #                                                                                       v\n",
        "          res[i]=1j*(an[i]*kn[i+1]*u[i+2]*np.conjugate(u[i+1])+bn[i]*kn[i]*u[i+1]*np.conjugate(u[i-1])-cn[i]*kn[i-1]*u[i-1]*u[i-2])+fn[i]-nu*kn[i]**2*u[i] \n",
        "      return  res\n"
      ]
    },
    {
      "cell_type": "code",
      "source": [
        "nu=2e-6\n",
        "fn=(1.+1j)*8.e-1\n",
        "eta=np.power(nu**3/(np.abs(fn)),1/4.)\n",
        "print(1/eta)"
      ],
      "metadata": {
        "colab": {
          "base_uri": "https://localhost:8080/"
        },
        "id": "99MChFPsr9UK",
        "outputId": "16ad7271-ead6-4ffe-e4d9-4ce781d5ae03"
      },
      "execution_count": 4,
      "outputs": [
        {
          "output_type": "stream",
          "name": "stdout",
          "text": [
            "19392.27447486858\n"
          ]
        }
      ]
    },
    {
      "cell_type": "code",
      "source": [
        "taueta=np.power(nu/np.real(fn).real,0.5)\n",
        "print(taueta)"
      ],
      "metadata": {
        "colab": {
          "base_uri": "https://localhost:8080/"
        },
        "id": "1xR3EDORczgF",
        "outputId": "ef12685f-a686-4c36-f1b6-8f7ef8298a44"
      },
      "execution_count": 5,
      "outputs": [
        {
          "output_type": "stream",
          "name": "stdout",
          "text": [
            "0.0015811388300841897\n"
          ]
        }
      ]
    },
    {
      "cell_type": "code",
      "source": [
        "Un=1e-3*kn**(-1)*(1.+1.j)*np.ones(N+4,dtype=complex)\n",
        "\n",
        "#u0=1j*np.ones((2*(N+4)))\n",
        "u0=np.array(Un)\n",
        "#u0=u0.reshape(1,2*(N+4))\n",
        "#u20=2*np.ones(N)\n",
        "\n",
        "t=0\n",
        "r = complex_ode(shellmodel).set_integrator('vode', method='bdf',order='2')\n",
        "r.set_initial_value(Un,0)\n",
        "t1 = 6.1\n",
        "dt = 1e-4\n",
        "#print(r.successful(),r.t,t1)\n",
        "i=0\n",
        "a=[]\n",
        "while r.successful() and r.t < t1:\n",
        "      r.t\n",
        "      a.append(r.integrate(r.t+dt))\n",
        "      i=i+1\n",
        "print(i)\n",
        "Uf=np.transpose(a)"
      ],
      "metadata": {
        "colab": {
          "base_uri": "https://localhost:8080/"
        },
        "id": "UMBBMtSUr2RV",
        "outputId": "15eaa076-354b-46c6-9ed6-02cf6acf327a"
      },
      "execution_count": 6,
      "outputs": [
        {
          "output_type": "stream",
          "name": "stdout",
          "text": [
            "61001\n"
          ]
        }
      ]
    },
    {
      "cell_type": "code",
      "source": [
        "Uf2=Uf[2:-2]\n",
        "Energy=np.sum((Uf2*np.conj(Uf2)).real,axis=0)\n",
        "plt.plot(Energy)\n",
        "\n",
        "#plt.plot(np.sum((Un*np.conj(Un)).real,axis=0))\n",
        "\n",
        "#plt.ylim(0,1e-3)\n",
        "plt.show()"
      ],
      "metadata": {
        "colab": {
          "base_uri": "https://localhost:8080/",
          "height": 265
        },
        "id": "U6SFSLyhzbEI",
        "outputId": "edf4296d-cea6-4b85-ee15-fdef09565e6d"
      },
      "execution_count": null,
      "outputs": [
        {
          "output_type": "display_data",
          "data": {
            "text/plain": [
              "<Figure size 432x288 with 1 Axes>"
            ],
            "image/png": "[encoded data removed]"
          },
          "metadata": {
            "needs_background": "light"
          }
        }
      ]
    },
    {
      "cell_type": "code",
      "source": [
        "#print(Energy)"
      ],
      "metadata": {
        "id": "7e_IFMmA-7Gf"
      },
      "execution_count": null,
      "outputs": []
    },
    {
      "cell_type": "code",
      "source": [
        "#print(np.mean((Uf*np.conj(Uf)),1),Uf[2].shape[:])"
      ],
      "metadata": {
        "id": "vFy4db8fxO4-"
      },
      "execution_count": null,
      "outputs": []
    },
    {
      "cell_type": "code",
      "source": [
        "#print(Uf.shape[:],Un.shape[:])"
      ],
      "metadata": {
        "id": "bKN1Ks-bSeck"
      },
      "execution_count": null,
      "outputs": []
    },
    {
      "cell_type": "code",
      "source": [
        "#plt.plot(kn,(Un*np.conj(Un)).real,'bo')\n",
        "#plt.loglog()\n",
        "#plt.show()"
      ],
      "metadata": {
        "id": "Rf69VRlpRsqU"
      },
      "execution_count": null,
      "outputs": []
    },
    {
      "cell_type": "code",
      "source": [
        "plt.figure(figsize=(14,10))\n",
        "plt.plot(kn[2:-2],(Un*np.conj(Un)).real[2:-2],'ro',label='initial condition')\n",
        "plt.plot(kn[2:-2],(np.mean((Uf*np.conj(Uf)),1).real)[2:-2],'o--',label='solution')\n",
        "plt.plot(kn[2:-2],1e3*np.power(np.abs(fn),2/3.)*kn[2:-2]**-5/3.,label='K41')\n",
        "plt.axvline(x=1/eta)\n",
        "plt.axvline(x=kn[3])\n",
        "#plt.xlabel(r'$k$', fontsize=20)\n",
        "#plt.ylabel(r'$E(k)$', fontsize=20)\n",
        "plt.legend(fontsize=20)\n",
        "plt.xticks(fontsize=20)\n",
        "plt.yticks(fontsize=20)\n",
        "\n",
        "#pyplot.annotate(r'$k_{in}$',(kn[3],1e-19),fontsize='20')\n",
        "#pyplot.annotate(r'$k_{out}$',(1/eta,1e-19),fontsize='20')\n",
        "plt.loglog()\n",
        "plt.savefig('./K41_shell_model_N=20')\n",
        "plt.show()\n",
        "#np.save('./sol_0.02.npy',(np.mean((Uf*np.conj(Uf)),1).real)[2:-2])"
      ],
      "metadata": {
        "colab": {
          "base_uri": "https://localhost:8080/",
          "height": 603
        },
        "id": "87wd6RKjueGg",
        "outputId": "244d7e4f-ab29-4128-f13f-905c859812c0"
      },
      "execution_count": null,
      "outputs": [
        {
          "output_type": "display_data",
          "data": {
            "text/plain": [
              "<Figure size 1008x720 with 1 Axes>"
            ],
            "image/png": "[encoded data removed]"
          },
          "metadata": {
            "needs_background": "light"
          }
        }
      ]
    },
    {
      "cell_type": "code",
      "source": [
        "scale=1/(nu*kn)\n",
        "print(scale)"
      ],
      "metadata": {
        "colab": {
          "base_uri": "https://localhost:8080/"
        },
        "id": "UsM5NfiXXxdw",
        "outputId": "820ef506-88ab-4b13-f506-4eba9e2fb437"
      },
      "execution_count": null,
      "outputs": [
        {
          "output_type": "stream",
          "name": "stdout",
          "text": [
            "[8.00000000e+06 4.00000000e+06 2.00000000e+06 1.00000000e+06\n",
            " 5.00000000e+05 2.50000000e+05 1.25000000e+05 6.25000000e+04\n",
            " 3.12500000e+04 1.56250000e+04 7.81250000e+03 3.90625000e+03\n",
            " 1.95312500e+03 9.76562500e+02 4.88281250e+02 2.44140625e+02\n",
            " 1.22070312e+02 6.10351562e+01 3.05175781e+01 1.52587891e+01\n",
            " 7.62939453e+00 3.81469727e+00 1.90734863e+00 9.53674316e-01]\n"
          ]
        }
      ]
    },
    {
      "cell_type": "markdown",
      "source": [
        "**structure functions in all their beauty**"
      ],
      "metadata": {
        "id": "jtt5IVSec6wy"
      }
    },
    {
      "cell_type": "code",
      "source": [
        "a=np.array([1+1j,2,3,4])\n",
        "a=np.abs(a)\n",
        "print(np.mean(a**2))"
      ],
      "metadata": {
        "colab": {
          "base_uri": "https://localhost:8080/"
        },
        "id": "v1ZR6AzcPD4C",
        "outputId": "391ed870-7a81-46fd-f8ae-3b4fcf75201f"
      },
      "execution_count": null,
      "outputs": [
        {
          "output_type": "stream",
          "name": "stdout",
          "text": [
            "7.75\n"
          ]
        }
      ]
    },
    {
      "cell_type": "code",
      "source": [
        "Uf[2:-2]"
      ],
      "metadata": {
        "colab": {
          "base_uri": "https://localhost:8080/"
        },
        "id": "rTo74-NxSXQm",
        "outputId": "5d55bffa-4c4e-4e1e-cdb3-73c19dd67bfd"
      },
      "execution_count": null,
      "outputs": [
        {
          "output_type": "execute_result",
          "data": {
            "text/plain": [
              "array([[ 0.004     +0.004j     ,  0.004     +0.004j     ,\n",
              "         0.004     +0.004j     , ..., -1.99039955+0.62669066j,\n",
              "        -1.99067503+0.62678449j, -1.99095047+0.62687831j],\n",
              "       [ 0.00208   +0.00208j   ,  0.00216   +0.00216j   ,\n",
              "         0.00224   +0.00224j   , ...,  4.25057481+4.2404344j ,\n",
              "         4.25048286+4.24033968j,  4.25039093+4.24024498j],\n",
              "       [ 0.001     +0.001j     ,  0.001     +0.001j     ,\n",
              "         0.001     +0.001j     , ..., -0.42484897+0.87246206j,\n",
              "        -0.42479227+0.87236201j, -0.42473549+0.87226181j],\n",
              "       ...,\n",
              "       [ 0.00000002+0.00000002j,  0.00000002+0.00000002j,\n",
              "         0.00000002+0.00000002j, ..., -0.        -0.j        ,\n",
              "        -0.        -0.j        , -0.        -0.j        ],\n",
              "       [ 0.00000001+0.00000001j,  0.        +0.j        ,\n",
              "         0.        +0.j        , ...,  0.        -0.j        ,\n",
              "         0.        -0.j        ,  0.        -0.j        ],\n",
              "       [ 0.        +0.j        ,  0.        +0.j        ,\n",
              "         0.        +0.j        , ...,  0.        +0.j        ,\n",
              "         0.        +0.j        ,  0.        +0.j        ]])"
            ]
          },
          "metadata": {},
          "execution_count": 98
        }
      ]
    },
    {
      "cell_type": "code",
      "source": [
        "print(len(np.mean(np.abs(Uf[2:-2].T),axis=0)))"
      ],
      "metadata": {
        "colab": {
          "base_uri": "https://localhost:8080/"
        },
        "id": "9leA17cFPkmS",
        "outputId": "401d39da-2a59-4d11-dcdf-42957600e1a3"
      },
      "execution_count": null,
      "outputs": [
        {
          "output_type": "stream",
          "name": "stdout",
          "text": [
            "20\n"
          ]
        }
      ]
    },
    {
      "cell_type": "code",
      "source": [
        "plt.figure(figsize=(14,10))\n",
        "Uf3=np.abs(Uf[2:-2].T)\n",
        "S1=np.mean(((Uf3)),0)\n",
        "S2=np.mean((Uf3)**2,0)\n",
        "S3=np.mean((Uf3)**3,0)\n",
        "S4=np.mean((Uf3)**4,0)\n",
        "S5=np.mean((Uf3)**5,0)\n",
        "S6=np.mean((Uf3)**6,0)\n",
        "S7=np.mean((Uf3)**7,0)\n",
        "S8=np.mean((Uf3)**8,0)\n",
        "S9=np.mean((Uf3)**9,0)\n",
        "print(len(S2),len(S4)) "
      ],
      "metadata": {
        "colab": {
          "base_uri": "https://localhost:8080/",
          "height": 52
        },
        "id": "jMoLdAnQs_1T",
        "outputId": "06a3a183-e3a9-4272-fbb4-8e964446fb59"
      },
      "execution_count": null,
      "outputs": [
        {
          "output_type": "stream",
          "name": "stdout",
          "text": [
            "20 20\n"
          ]
        },
        {
          "output_type": "display_data",
          "data": {
            "text/plain": [
              "<Figure size 1008x720 with 0 Axes>"
            ]
          },
          "metadata": {}
        }
      ]
    },
    {
      "cell_type": "code",
      "source": [
        "print((S1.shape[:]))"
      ],
      "metadata": {
        "id": "KTSF_dVjvFSM",
        "colab": {
          "base_uri": "https://localhost:8080/"
        },
        "outputId": "5274bb5c-7860-4ad6-f0ba-00a03f9a3599"
      },
      "execution_count": null,
      "outputs": [
        {
          "output_type": "stream",
          "name": "stdout",
          "text": [
            "(20,)\n"
          ]
        }
      ]
    },
    {
      "cell_type": "code",
      "source": [
        "def func(x, a, b, c):\n",
        "    return a * np.power(x,b) +c"
      ],
      "metadata": {
        "id": "yzGye9vPX_6V"
      },
      "execution_count": null,
      "outputs": []
    },
    {
      "cell_type": "code",
      "source": [
        "plt.figure(figsize=(14,10))\n",
        "\n",
        "#plt.plot(kn[2:-2],S1,'o-',label='S1')\n",
        "plt.plot(kn[2:-2],S2,'o-',label='S2')\n",
        "#plt.plot(kn[2:-2],S4,'o-',label='S4')\n",
        "#plt.plot(kn[2:-2],kn[2:-2]**0.00003242,'o-',label='k**-2')\n",
        "plt.plot(kn[2:-2],func(kn[2:-2], *popt))\n",
        "#plt.plot(S3,'o-',label='S3')\n",
        "#plt.plot(kn[2:-2],S4,'o-',label='S4')\n",
        "#plt.plot(S5,'o-',label='S5')\n",
        "#plt.plot(kn[2:-2],S6,'o-',label='S6')\n",
        "#plt.plot(S7,'o-',label='S7')\n",
        "#plt.plot(kn[2:-2],S8,'o-',label='S8')\n",
        "#plt.plot(S9,'o-',label='S9')\n",
        "#plt.xlim([1e-1,1])\n",
        "#plt.yscale(\"log\")\n",
        "plt.loglog()#basex=2, basey=2)\n",
        "plt.legend()\n",
        "plt.show()"
      ],
      "metadata": {
        "colab": {
          "base_uri": "https://localhost:8080/",
          "height": 595
        },
        "id": "aYvpZcMIcHls",
        "outputId": "68ca8311-c093-4364-cafc-4cbfa1608b69"
      },
      "execution_count": null,
      "outputs": [
        {
          "output_type": "display_data",
          "data": {
            "text/plain": [
              "<Figure size 1008x720 with 1 Axes>"
            ],
            "image/png": "[encoded data removed]"
          },
          "metadata": {
            "needs_background": "light"
          }
        }
      ]
    },
    {
      "cell_type": "code",
      "source": [
        "from scipy.optimize import curve_fit\n",
        "popt, pcov = curve_fit(func, kn[2:-2],S2,bounds=(-5,[1,-2,1]))\n",
        "popt"
      ],
      "metadata": {
        "colab": {
          "base_uri": "https://localhost:8080/"
        },
        "id": "obWIX3itYGtc",
        "outputId": "bc800a95-5c3e-4bc0-e4fd-4f5e4a321ce6"
      },
      "execution_count": null,
      "outputs": [
        {
          "output_type": "execute_result",
          "data": {
            "text/plain": [
              "array([ 0.1909241 , -2.        ,  0.59000107])"
            ]
          },
          "metadata": {},
          "execution_count": 154
        }
      ]
    },
    {
      "cell_type": "code",
      "source": [
        "np.set_printoptions(suppress=True)\n",
        "\n",
        "np.round((S2), decimals=3, out=None)"
      ],
      "metadata": {
        "colab": {
          "base_uri": "https://localhost:8080/"
        },
        "id": "uafP6fKigDZu",
        "outputId": "4abfe6ac-4902-446c-a40b-570a15dd6198"
      },
      "execution_count": null,
      "outputs": [
        {
          "output_type": "execute_result",
          "data": {
            "text/plain": [
              "array([ 0.192, 15.383,  0.072,  0.198,  0.02 ,  0.008,  0.001,  0.   ,\n",
              "        0.   ,  0.   ,  0.   ,  0.   ,  0.   ,  0.   ,  0.   ,  0.   ,\n",
              "        0.   ,  0.   ,  0.   ,  0.   ])"
            ]
          },
          "metadata": {},
          "execution_count": 111
        }
      ]
    },
    {
      "cell_type": "code",
      "source": [
        "--- prove ---"
      ],
      "metadata": {
        "id": "i80DIhQac9OM",
        "colab": {
          "base_uri": "https://localhost:8080/",
          "height": 131
        },
        "outputId": "63ff5ca1-573a-4394-8a74-c01513e17dce"
      },
      "execution_count": null,
      "outputs": [
        {
          "output_type": "error",
          "ename": "SyntaxError",
          "evalue": "ignored",
          "traceback": [
            "\u001b[0;36m  File \u001b[0;32m\"<ipython-input-44-55b947364542>\"\u001b[0;36m, line \u001b[0;32m1\u001b[0m\n\u001b[0;31m    --- prove ---\u001b[0m\n\u001b[0m                 ^\u001b[0m\n\u001b[0;31mSyntaxError\u001b[0m\u001b[0;31m:\u001b[0m invalid syntax\n"
          ]
        }
      ]
    },
    {
      "cell_type": "code",
      "source": [
        "import seaborn as sns"
      ],
      "metadata": {
        "id": "vinzf97WG3fY"
      },
      "execution_count": null,
      "outputs": []
    },
    {
      "cell_type": "code",
      "source": [
        ""
      ],
      "metadata": {
        "id": "zstHYE-IG4KA"
      },
      "execution_count": null,
      "outputs": []
    }
  ]
}