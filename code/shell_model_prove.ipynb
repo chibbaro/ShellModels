{
  "cells": [
    {
      "cell_type": "markdown",
      "metadata": {
        "id": "view-in-github",
        "colab_type": "text"
      },
      "source": [
        "<a href=\"https://colab.research.google.com/github/raudh1/ShellModels/blob/main/shell_model_prove.ipynb\" target=\"_parent\"><img src=\"https://colab.research.google.com/assets/colab-badge.svg\" alt=\"Open In Colab\"/></a>"
      ]
    },
    {
      "cell_type": "code",
      "execution_count": 93,
      "metadata": {
        "id": "iLgmhLRqcK_9"
      },
      "outputs": [],
      "source": [
        "import numpy as np\n",
        "import matplotlib.pyplot as plt\n",
        "from mpl_toolkits.mplot3d import Axes3D\n",
        "from matplotlib.offsetbox import AnchoredText\n",
        "from scipy.integrate import solve_ivp\n",
        "\n",
        "from scipy.integrate import complex_ode\n",
        "from matplotlib import pyplot"
      ]
    },
    {
      "cell_type": "code",
      "execution_count": 94,
      "metadata": {
        "id": "P0gsYBz_rHqX"
      },
      "outputs": [],
      "source": [
        "N=12\n",
        "knn=np.power(2,np.arange(N+4))\n",
        "kn=knn*np.power(2,-4.)\n"
      ]
    },
    {
      "cell_type": "code",
      "execution_count": 95,
      "metadata": {
        "id": "vScdL61XcCZ5"
      },
      "outputs": [],
      "source": [
        "def shellmodel(t, u):\n",
        "      nu=0.4e-3\n",
        "      an=np.ones(N+4)\n",
        "      bn=-0.5*np.ones(N+4)\n",
        "      cn=-0.5*np.ones(N+4)\n",
        "      fn=np.zeros(N+4,dtype=complex)\n",
        "      #cn=np.zeros(N+4)\n",
        "      #cn=(1.-bn)\n",
        "\n",
        "\n",
        "      an[N+3]=0.\n",
        "      an[N+2]=0.\n",
        "\n",
        "      bn[0]=0.\n",
        "      bn[N+3]=0.\n",
        "\n",
        "      cn[0]=0.\n",
        "      cn[1]=0.\n",
        "\n",
        "      fn[3]=(1.+1.j)*6.e-3\n",
        "      res=np.zeros((N+4),dtype=complex)\n",
        "      #a,b,c=-1.,0.5,0.5\n",
        "      #print((2,N+2),res.shape[0])\n",
        "\n",
        "      eta=np.power(nu**3/(np.abs(fn[3])),1/4.)\n",
        "      #print(1/eta)\n",
        "\n",
        "      for i in range(2, N+2):\n",
        "          #SABRA U\n",
        "          #print(i)                                                                        cambiato da i-3\n",
        "          #                                                                                       |\n",
        "          #                                                                                       v\n",
        "          res[i]=1j*(an[i-2]*kn[i+1]*u[i+2]*np.conjugate(u[i+1])+bn[i-2]*kn[i]*u[i+1]*np.conjugate(u[i-1])-cn[i-2]*kn[i-1]*u[i-1]*u[i-2])+fn[i]-nu*kn[i]**2*u[i] \n",
        "      return  res\n"
      ]
    },
    {
      "cell_type": "code",
      "execution_count": 96,
      "metadata": {
        "colab": {
          "base_uri": "https://localhost:8080/"
        },
        "id": "99MChFPsr9UK",
        "outputId": "253f882e-0054-422c-fb41-e9fce4a7388f"
      },
      "outputs": [
        {
          "output_type": "stream",
          "name": "stdout",
          "text": [
            "107.3053977160155\n"
          ]
        }
      ],
      "source": [
        "nu=0.4e-3\n",
        "fn=(1.+1j)*6.e-3\n",
        "eta=np.power(nu**3/(np.abs(fn)),1/4.)\n",
        "print(1/eta)"
      ]
    },
    {
      "cell_type": "code",
      "execution_count": 99,
      "metadata": {
        "colab": {
          "base_uri": "https://localhost:8080/"
        },
        "id": "1xR3EDORczgF",
        "outputId": "00bd1385-171a-4a9e-b5d5-5647dce8a81a"
      },
      "outputs": [
        {
          "output_type": "stream",
          "name": "stdout",
          "text": [
            "0.3426811480823693\n"
          ]
        }
      ],
      "source": [
        "taueta=np.power(nu/epsilon,0.5)\n",
        "print(taueta)"
      ]
    },
    {
      "cell_type": "code",
      "source": [
        ""
      ],
      "metadata": {
        "id": "AWOjQLDdjQsi"
      },
      "execution_count": 83,
      "outputs": []
    },
    {
      "cell_type": "code",
      "execution_count": 101,
      "metadata": {
        "colab": {
          "base_uri": "https://localhost:8080/"
        },
        "id": "UMBBMtSUr2RV",
        "outputId": "046a692f-9405-486b-8347-a75eb20b03b7"
      },
      "outputs": [
        {
          "output_type": "stream",
          "name": "stdout",
          "text": [
            "0.17199469441892398\n",
            "50000\n",
            "0.16369237616827453\n",
            "100000\n",
            "0.16615599815652843\n",
            "150000\n",
            "0.1651440810697063\n",
            "200000\n",
            "0.1652588194390912\n",
            "250000\n",
            "0.16585150827911257\n",
            "300000\n"
          ]
        }
      ],
      "source": [
        "Un=1e-2*kn**(-1)*(1.+1.j)*np.ones(N+4,dtype=complex)\n",
        "Un2=np.load('./Uf.npy')\n",
        "Un2=Un2[:,-1]\n",
        "#u0=1j*np.ones((2*(N+4)))\n",
        "u0=np.array(Un2)\n",
        "#u0=u0.reshape(1,2*(N+4))\n",
        "#u20=2*np.ones(N)\n",
        "\n",
        "t=0\n",
        "r = complex_ode(shellmodel).set_integrator('vode', method='bdf',order='2')\n",
        "r.set_initial_value(u0,0)\n",
        "t1 = 3000\n",
        "dt = 1e-2\n",
        "#print(r.successful(),r.t,t1)\n",
        "i=0\n",
        "a=[]\n",
        "while r.successful() and r.t < t1:\n",
        "      r.t\n",
        "      a.append(r.integrate(r.t+dt))\n",
        "      i=i+1\n",
        "      if (i%50000==0):\n",
        "        print(np.mean(np.sum((np.transpose(a)*np.conj(np.transpose(a))).real,axis=0)))\n",
        "        print(i)\n",
        "Uf=np.transpose(a)\n",
        "np.save('./Uf',Uf)"
      ]
    },
    {
      "cell_type": "code",
      "source": [
        "np.save('./Uf',Uf)"
      ],
      "metadata": {
        "id": "7sjhaWMeHCCm"
      },
      "execution_count": 28,
      "outputs": []
    },
    {
      "cell_type": "code",
      "execution_count": 102,
      "metadata": {
        "colab": {
          "base_uri": "https://localhost:8080/",
          "height": 265
        },
        "id": "U6SFSLyhzbEI",
        "outputId": "e68d6283-5336-4634-fa86-593a1d3b47ea"
      },
      "outputs": [
        {
          "output_type": "display_data",
          "data": {
            "text/plain": [
              "<Figure size 432x288 with 1 Axes>"
            ],
            "image/png": "[encoded data removed]"
          },
          "metadata": {
            "needs_background": "light"
          }
        }
      ],
      "source": [
        "Uf2=Uf[2:-2]\n",
        "Energy=np.sum((Uf2*np.conj(Uf2)).real,axis=0)\n",
        "plt.plot((Energy))\n",
        "#plt.loglog()\n",
        "#plt.plot(np.sum((Un*np.conj(Un)).real,axis=0))\n",
        "\n",
        "#plt.ylim(Energy[0],4.266e-5)\n",
        "#plt.xlim(0,20)\n",
        "plt.show()"
      ]
    },
    {
      "cell_type": "code",
      "source": [
        "Un[3]"
      ],
      "metadata": {
        "colab": {
          "base_uri": "https://localhost:8080/"
        },
        "id": "6xOKivfQU39g",
        "outputId": "d9895f00-5dd6-4b99-b84f-5f221020be7d"
      },
      "execution_count": 88,
      "outputs": [
        {
          "output_type": "execute_result",
          "data": {
            "text/plain": [
              "(0.02+0.02j)"
            ]
          },
          "metadata": {},
          "execution_count": 88
        }
      ]
    },
    {
      "cell_type": "code",
      "execution_count": 103,
      "metadata": {
        "id": "7g7l68lVSwCZ"
      },
      "outputs": [],
      "source": [
        "epsilon=2*np.real(np.mean(np.conj(Uf[3])*fn))\n"
      ]
    },
    {
      "cell_type": "code",
      "execution_count": 104,
      "metadata": {
        "id": "7e_IFMmA-7Gf",
        "colab": {
          "base_uri": "https://localhost:8080/"
        },
        "outputId": "1aa24ca1-8cf5-44ee-e662-6866a0d6dd09"
      },
      "outputs": [
        {
          "output_type": "stream",
          "name": "stdout",
          "text": [
            "86.4980967995512 107.3053977160155\n"
          ]
        }
      ],
      "source": [
        "eta=np.power(nu**3/(epsilon),1/4.)\n",
        "eta2=np.power(nu**3/(np.abs(fn)),1/4.)\n",
        "print(1/eta,1/eta2)"
      ]
    },
    {
      "cell_type": "code",
      "execution_count": 105,
      "metadata": {
        "id": "vFy4db8fxO4-"
      },
      "outputs": [],
      "source": [
        "#print(np.mean((Uf*np.conj(Uf)),1),Uf[2].shape[:])"
      ]
    },
    {
      "cell_type": "code",
      "execution_count": 106,
      "metadata": {
        "id": "bKN1Ks-bSeck"
      },
      "outputs": [],
      "source": [
        "#print(Uf.shape[:],Un.shape[:])"
      ]
    },
    {
      "cell_type": "code",
      "execution_count": 107,
      "metadata": {
        "id": "Rf69VRlpRsqU"
      },
      "outputs": [],
      "source": [
        "#plt.plot(kn,(Un*np.conj(Un)).real,'bo')\n",
        "#plt.loglog()\n",
        "#plt.show()"
      ]
    },
    {
      "cell_type": "code",
      "source": [
        "#Uf_stat.shape[:]\n",
        "#Uf_stat=Uf\n",
        "Uf_stat=Uf[:,50000:]\n",
        "#Uf_stat_old=np.load('./Uf_stat.npy')\n"
      ],
      "metadata": {
        "id": "dDm22JoXIU1a"
      },
      "execution_count": 108,
      "outputs": []
    },
    {
      "cell_type": "code",
      "execution_count": 109,
      "metadata": {
        "colab": {
          "base_uri": "https://localhost:8080/",
          "height": 626
        },
        "id": "87wd6RKjueGg",
        "outputId": "e2773cc5-8486-486a-d494-f9c4a333bb2f"
      },
      "outputs": [
        {
          "output_type": "display_data",
          "data": {
            "text/plain": [
              "<Figure size 1008x720 with 1 Axes>"
            ],
            "image/png": "[encoded data removed]"
          },
          "metadata": {
            "needs_background": "light"
          }
        }
      ],
      "source": [
        "plt.figure(figsize=(14,10))\n",
        "plt.plot(kn[2:-2],(Un*np.conj(Un)).real[2:-2],'ro',label='initial condition')\n",
        "plt.plot(kn[2:-2],(np.mean((Uf_stat*np.conj(Uf_stat)),1).real)[2:-2],'o--',label='S2')\n",
        "#plt.plot(kn[2:-2],(np.mean((Uf_stat_old*np.conj(Uf_stat_old)),1).real)[2:-2],'o--',label='S2')\n",
        "\n",
        "plt.plot(kn[2:-2],np.power(epsilon,2/3.)*kn[2:-2]**(-2/3.),label=r'$S2_{th}$')\n",
        "plt.axvline(x=1/eta)\n",
        "plt.axvline(x=kn[3])\n",
        "plt.xlabel(r'$n$', fontsize=20)\n",
        "plt.ylabel(r'$S_2(n)$', fontsize=20)\n",
        "plt.legend(fontsize=20)\n",
        "plt.xticks(fontsize=20)\n",
        "plt.yticks(fontsize=20)\n",
        "\n",
        "#pyplot.annotate(r'$k_{in}$',(kn[3],1e-19),fontsize='20')\n",
        "#pyplot.annotate(r'$k_{out}$',(1/eta,1e-19),fontsize='20')\n",
        "plt.loglog()\n",
        "#plt.savefig('./K41_shell_model_N=20')\n",
        "plt.show()\n",
        "#np.save('./sol_0.02.npy',(np.mean((Uf*np.conj(Uf)),1).real)[2:-2])"
      ]
    },
    {
      "cell_type": "code",
      "execution_count": 231,
      "metadata": {
        "id": "UsM5NfiXXxdw"
      },
      "outputs": [],
      "source": [
        " np.save('./Uf_stat',Uf_stat)"
      ]
    },
    {
      "cell_type": "markdown",
      "metadata": {
        "id": "jtt5IVSec6wy"
      },
      "source": [
        "**structure functions in all their beauty**"
      ]
    },
    {
      "cell_type": "code",
      "execution_count": null,
      "metadata": {
        "colab": {
          "base_uri": "https://localhost:8080/"
        },
        "id": "9leA17cFPkmS",
        "outputId": "401d39da-2a59-4d11-dcdf-42957600e1a3"
      },
      "outputs": [
        {
          "name": "stdout",
          "output_type": "stream",
          "text": [
            "20\n"
          ]
        }
      ],
      "source": [
        "print(len(np.mean(np.abs(Uf[2:-2].T),axis=0)))"
      ]
    },
    {
      "cell_type": "code",
      "source": [
        "Ufdisp=Uf[:]"
      ],
      "metadata": {
        "id": "7uYsBh5QKQix"
      },
      "execution_count": 128,
      "outputs": []
    },
    {
      "cell_type": "code",
      "source": [
        "Sdispari=[]\n",
        "for i in range(N):\n",
        "  \n",
        "  a=np.imag(np.mean(((Ufdisp[i,:]*(Ufdisp[i+1,:])*np.conj((Ufdisp[i+2,:]))))))\n",
        "  Sdispari.append(a)\n",
        "print(Sdispari)"
      ],
      "metadata": {
        "colab": {
          "base_uri": "https://localhost:8080/"
        },
        "id": "jllOmfdbKl4F",
        "outputId": "50e4fcd1-0b4b-42b0-f85a-709946daa378"
      },
      "execution_count": 129,
      "outputs": [
        {
          "output_type": "stream",
          "name": "stdout",
          "text": [
            "[0.0001983505355356922, 3.127654206023635e-05, -4.6625211726579176e-06, -0.0017885654667686701, -0.00044512657030529746, -0.0003305357201999883, -0.00013455440732832144, -6.941541365929243e-05, -3.0046888991683212e-05, -8.912667896385612e-06, -5.192230624510041e-07, -2.2720842603726017e-09]\n"
          ]
        }
      ]
    },
    {
      "cell_type": "code",
      "source": [
        "plt.plot(kn[2:-2],np.abs(Sdispari),'d')\n",
        "plt.loglog()"
      ],
      "metadata": {
        "colab": {
          "base_uri": "https://localhost:8080/",
          "height": 286
        },
        "id": "sxOWRqTgMuM6",
        "outputId": "fedf7f9d-adaf-478e-da84-4a27c1a40406"
      },
      "execution_count": 131,
      "outputs": [
        {
          "output_type": "execute_result",
          "data": {
            "text/plain": [
              "[]"
            ]
          },
          "metadata": {},
          "execution_count": 131
        },
        {
          "output_type": "display_data",
          "data": {
            "text/plain": [
              "<Figure size 432x288 with 1 Axes>"
            ],
            "image/png": "[encoded data removed]"
          },
          "metadata": {
            "needs_background": "light"
          }
        }
      ]
    },
    {
      "cell_type": "code",
      "execution_count": 125,
      "metadata": {
        "colab": {
          "base_uri": "https://localhost:8080/",
          "height": 52
        },
        "id": "jMoLdAnQs_1T",
        "outputId": "99cc0c7b-163e-455b-eff0-c2e73f8b426b"
      },
      "outputs": [
        {
          "output_type": "stream",
          "name": "stdout",
          "text": [
            "12 12\n"
          ]
        },
        {
          "output_type": "display_data",
          "data": {
            "text/plain": [
              "<Figure size 1008x720 with 0 Axes>"
            ]
          },
          "metadata": {}
        }
      ],
      "source": [
        "plt.figure(figsize=(14,10))\n",
        "Uf3=np.abs(Uf[2:-2])\n",
        "S1=np.mean(((Uf3)),1)\n",
        "S2=np.mean((Uf3)**2,1)\n",
        "S3=np.mean((Uf3)**3,1)\n",
        "S4=np.mean((Uf3)**4,1)\n",
        "S5=np.mean((Uf3)**5,1)\n",
        "S6=np.mean((Uf3)**6,1)\n",
        "S7=np.mean((Uf3)**7,1)\n",
        "S8=np.mean((Uf3)**8,1)\n",
        "S9=np.mean((Uf3)**9,1)\n",
        "print(len(S2),len(S4)) "
      ]
    },
    {
      "cell_type": "code",
      "source": [
        "Uf3[1,:].shape[:]"
      ],
      "metadata": {
        "colab": {
          "base_uri": "https://localhost:8080/"
        },
        "id": "DthvUyEMVH91",
        "outputId": "5b918150-c9b3-4501-8a89-5da255a3222c"
      },
      "execution_count": 31,
      "outputs": [
        {
          "output_type": "execute_result",
          "data": {
            "text/plain": [
              "(100001,)"
            ]
          },
          "metadata": {},
          "execution_count": 31
        }
      ]
    },
    {
      "cell_type": "code",
      "source": [
        "S2_2=np.mean(np.abs(Uf3[1,:]))\n",
        "S2_2"
      ],
      "metadata": {
        "colab": {
          "base_uri": "https://localhost:8080/"
        },
        "id": "__02wP7LOkb8",
        "outputId": "83a7f2df-6040-4c98-e715-0068ac74a6ae"
      },
      "execution_count": 33,
      "outputs": [
        {
          "output_type": "execute_result",
          "data": {
            "text/plain": [
              "0.20376173028873795"
            ]
          },
          "metadata": {},
          "execution_count": 33
        }
      ]
    },
    {
      "cell_type": "code",
      "source": [
        "plt.plot(np.abs(Uf3[1,:]))\n"
      ],
      "metadata": {
        "colab": {
          "base_uri": "https://localhost:8080/",
          "height": 282
        },
        "id": "D_Jn7wEZVBDa",
        "outputId": "075670dc-b1af-4f58-c92d-d7b3b29f9dc9"
      },
      "execution_count": 69,
      "outputs": [
        {
          "output_type": "execute_result",
          "data": {
            "text/plain": [
              "[<matplotlib.lines.Line2D at 0x7fcd7689c750>]"
            ]
          },
          "metadata": {},
          "execution_count": 69
        },
        {
          "output_type": "display_data",
          "data": {
            "text/plain": [
              "<Figure size 432x288 with 1 Axes>"
            ],
            "image/png": "[encoded data removed]"
          },
          "metadata": {
            "needs_background": "light"
          }
        }
      ]
    },
    {
      "cell_type": "code",
      "execution_count": 266,
      "metadata": {
        "colab": {
          "base_uri": "https://localhost:8080/"
        },
        "id": "KTSF_dVjvFSM",
        "outputId": "c24b776c-2c6a-4c6c-b84b-0c14d8daad70"
      },
      "outputs": [
        {
          "output_type": "stream",
          "name": "stdout",
          "text": [
            "(20,)\n"
          ]
        }
      ],
      "source": [
        "print((S1.shape[:]))"
      ]
    },
    {
      "cell_type": "code",
      "execution_count": 253,
      "metadata": {
        "id": "yzGye9vPX_6V"
      },
      "outputs": [],
      "source": [
        "def func(x, a, b, c):\n",
        "    return a * np.power(x,b) +c"
      ]
    },
    {
      "cell_type": "code",
      "source": [
        "np.log2(knn[2])"
      ],
      "metadata": {
        "colab": {
          "base_uri": "https://localhost:8080/"
        },
        "id": "eqrIoyTendAH",
        "outputId": "88e0119d-068d-4469-fb0c-85d9e3ad8a23"
      },
      "execution_count": 269,
      "outputs": [
        {
          "output_type": "execute_result",
          "data": {
            "text/plain": [
              "2.0"
            ]
          },
          "metadata": {},
          "execution_count": 269
        }
      ]
    },
    {
      "cell_type": "code",
      "execution_count": 134,
      "metadata": {
        "colab": {
          "base_uri": "https://localhost:8080/",
          "height": 600
        },
        "id": "aYvpZcMIcHls",
        "outputId": "a79b7451-22fb-4fca-8edb-e8a6516edf5d"
      },
      "outputs": [
        {
          "output_type": "display_data",
          "data": {
            "text/plain": [
              "<Figure size 1008x720 with 1 Axes>"
            ],
            "image/png": "[encoded data removed]"
          },
          "metadata": {
            "needs_background": "light"
          }
        }
      ],
      "source": [
        "plt.figure(figsize=(14,10))\n",
        "\n",
        "#plt.plot(kn[2:-2],S1,'o-',label='S1')\n",
        "plt.plot((kn[2:-2]),(S1),'o-',label='S1')\n",
        "plt.plot((kn[2:-2]),(S2),'o-',label='S2')\n",
        "plt.plot((kn[2:-2]),(S4),'o-',label='S4')\n",
        "plt.plot(kn[2:-2],np.mean(S1[:8])*kn[2:-2]**(-1/3.),label='S1 exp')\n",
        "plt.plot(kn[2:-2],np.mean(S2[:8])*kn[2:-2]**(-2/3.),label='S2 exp')\n",
        "plt.plot(kn[2:-2],np.mean(S4[:8])*kn[2:-2]**(-4/3.),label='S4 exp')\n",
        "\n",
        "#plt.plot((knn[2:-2]),knn[2:-2]*(np.abs(Sdispari)),'o-',label='S3')\n",
        "#plt.plot((knn[2:-2]),(knn[2:-2]**(-1.)),'o-',label='k^-1')\n",
        "\n",
        "#plt.plot(np.log2(knn[2:-2]),np.log2(S4),'o-',label='S4')\n",
        "#plt.plot(knn[2:-2],kn[2:-2]**(-0.720),label='power law')\n",
        "#plt.plot(knn[2:-2],kn[2:-2]**(-1.7),label='power law')\n",
        "\n",
        "#plt.yscale('log')\n",
        "\n",
        "#plt.plot(kn[2:-2],kn[2:-2]**0.00003242,'o-',label='k**-2')\n",
        "#plt.plot(kn[2:-2],func(kn[2:-2], *popt))\n",
        "#plt.plot(S3,'o-',label='S3')\n",
        "#plt.plot(kn[2:-2],S4,'o-',label='S4')\n",
        "#plt.plot(S5,'o-',label='S5')\n",
        "#plt.plot(kn[2:-2],S6,'o-',label='S6')\n",
        "#plt.plot(S7,'o-',label='S7')\n",
        "#plt.plot(kn[2:-2],S8,'o-',label='S8')\n",
        "#plt.plot(S9,'o-',label='S9')\n",
        "#plt.xlim([1e-1,1])\n",
        "#plt.ylim(1e-3,1e3)\n",
        "plt.axvline(x=1/eta)\n",
        "plt.axvline(x=kn[3])\n",
        "plt.loglog()#basex=2, basey=2)\n",
        "plt.legend()\n",
        "plt.show()"
      ]
    },
    {
      "cell_type": "code",
      "source": [
        "S2"
      ],
      "metadata": {
        "colab": {
          "base_uri": "https://localhost:8080/"
        },
        "id": "lEWg7qU3NQV9",
        "outputId": "3f495d59-f313-443a-b4dc-93a31164e583"
      },
      "execution_count": 35,
      "outputs": [
        {
          "output_type": "execute_result",
          "data": {
            "text/plain": [
              "array([1.83099723e-02, 4.55088797e-02, 7.35174319e-03, 8.83363841e-03,\n",
              "       2.57966462e-03, 2.85494146e-03, 7.74959876e-04, 7.14718096e-05,\n",
              "       9.84856850e-07, 7.58982027e-10, 6.95603813e-15, 2.02010675e-22])"
            ]
          },
          "metadata": {},
          "execution_count": 35
        }
      ]
    },
    {
      "cell_type": "code",
      "execution_count": null,
      "metadata": {
        "colab": {
          "base_uri": "https://localhost:8080/"
        },
        "id": "obWIX3itYGtc",
        "outputId": "bc800a95-5c3e-4bc0-e4fd-4f5e4a321ce6"
      },
      "outputs": [
        {
          "data": {
            "text/plain": [
              "array([ 0.1909241 , -2.        ,  0.59000107])"
            ]
          },
          "execution_count": 154,
          "metadata": {},
          "output_type": "execute_result"
        }
      ],
      "source": [
        "from scipy.optimize import curve_fit\n",
        "popt, pcov = curve_fit(func, kn[2:-2],S2,bounds=(-5,[1,-2,1]))\n",
        "popt"
      ]
    },
    {
      "cell_type": "code",
      "execution_count": 73,
      "metadata": {
        "colab": {
          "base_uri": "https://localhost:8080/"
        },
        "id": "uafP6fKigDZu",
        "outputId": "25626b9e-6f50-4daf-b255-201821c03604"
      },
      "outputs": [
        {
          "output_type": "execute_result",
          "data": {
            "text/plain": [
              "array([0.00009967, 0.72494462, 0.00007771, 0.00011172, 0.00000019,\n",
              "       0.00000003, 0.00000001, 0.        , 0.        , 0.        ,\n",
              "       0.        , 0.        , 0.        , 0.        , 0.        ,\n",
              "       0.        , 0.        , 0.        , 0.        , 0.        ])"
            ]
          },
          "metadata": {},
          "execution_count": 73
        }
      ],
      "source": [
        "np.set_printoptions(suppress=True)\n",
        "\n",
        "np.round(S2, decimals=8, out=None)"
      ]
    },
    {
      "cell_type": "code",
      "execution_count": null,
      "metadata": {
        "colab": {
          "base_uri": "https://localhost:8080/",
          "height": 131
        },
        "id": "i80DIhQac9OM",
        "outputId": "63ff5ca1-573a-4394-8a74-c01513e17dce"
      },
      "outputs": [
        {
          "ename": "SyntaxError",
          "evalue": "ignored",
          "output_type": "error",
          "traceback": [
            "\u001b[0;36m  File \u001b[0;32m\"<ipython-input-44-55b947364542>\"\u001b[0;36m, line \u001b[0;32m1\u001b[0m\n\u001b[0;31m    --- prove ---\u001b[0m\n\u001b[0m                 ^\u001b[0m\n\u001b[0;31mSyntaxError\u001b[0m\u001b[0;31m:\u001b[0m invalid syntax\n"
          ]
        }
      ],
      "source": [
        "--- prove ---"
      ]
    },
    {
      "cell_type": "code",
      "execution_count": null,
      "metadata": {
        "id": "vinzf97WG3fY"
      },
      "outputs": [],
      "source": [
        "import seaborn as sns"
      ]
    },
    {
      "cell_type": "code",
      "execution_count": null,
      "metadata": {
        "id": "zstHYE-IG4KA"
      },
      "outputs": [],
      "source": [
        ""
      ]
    }
  ],
  "metadata": {
    "colab": {
      "collapsed_sections": [],
      "name": "shell_model_prove.ipynb",
      "provenance": [],
      "authorship_tag": "ABX9TyMb0fsbTctoFq91rY6qUmDx",
      "include_colab_link": true
    },
    "kernelspec": {
      "display_name": "Python 3",
      "name": "python3"
    },
    "language_info": {
      "name": "python"
    }
  },
  "nbformat": 4,
  "nbformat_minor": 0
}
